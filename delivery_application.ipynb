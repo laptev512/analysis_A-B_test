{
 "cells": [
  {
   "cell_type": "code",
   "execution_count": 3,
   "id": "52808594",
   "metadata": {},
   "outputs": [],
   "source": [
    "import pandas as pd\n",
    "import re\n",
    "import pingouin as pg\n",
    "import seaborn as sns\n",
    "import numpy as np\n",
    "import scipy\n",
    "import scipy.stats as stats\n",
    "import matplotlib.pyplot as plt"
   ]
  },
  {
   "cell_type": "code",
   "execution_count": 4,
   "id": "9bdac92a",
   "metadata": {},
   "outputs": [],
   "source": [
    "# история заказов пользователей, в этой таблице есть информация о том, какие заказы создавали и отменяли пользователи\n",
    "ab_users_data = pd.read_csv('ab_users_data.csv')\n"
   ]
  },
  {
   "cell_type": "code",
   "execution_count": 5,
   "id": "2f501ba2",
   "metadata": {},
   "outputs": [],
   "source": [
    "# подробная информация о составе заказа, тут для каждого заказа есть список id тех продуктов, которые были включены в заказ\n",
    "ab_orders = pd.read_csv('ab_orders.csv')"
   ]
  },
  {
   "cell_type": "code",
   "execution_count": 6,
   "id": "783d2986",
   "metadata": {},
   "outputs": [],
   "source": [
    "# подробная информация о продуктах, их название и стоимость\n",
    "ab_products = pd.read_csv('ab_products.csv')"
   ]
  },
  {
   "cell_type": "markdown",
   "id": "cee74d54",
   "metadata": {},
   "source": [
    "#### 1. Иследование данных"
   ]
  },
  {
   "cell_type": "code",
   "execution_count": 7,
   "id": "c2c7775b",
   "metadata": {},
   "outputs": [
    {
     "data": {
      "text/plain": [
       "create_order    4123\n",
       "cancel_order     214\n",
       "Name: action, dtype: int64"
      ]
     },
     "execution_count": 7,
     "metadata": {},
     "output_type": "execute_result"
    }
   ],
   "source": [
    "ab_users_data.action.value_counts()"
   ]
  },
  {
   "cell_type": "code",
   "execution_count": 8,
   "id": "a326ef7c",
   "metadata": {},
   "outputs": [
    {
     "data": {
      "text/html": [
       "<div>\n",
       "<style scoped>\n",
       "    .dataframe tbody tr th:only-of-type {\n",
       "        vertical-align: middle;\n",
       "    }\n",
       "\n",
       "    .dataframe tbody tr th {\n",
       "        vertical-align: top;\n",
       "    }\n",
       "\n",
       "    .dataframe thead th {\n",
       "        text-align: right;\n",
       "    }\n",
       "</style>\n",
       "<table border=\"1\" class=\"dataframe\">\n",
       "  <thead>\n",
       "    <tr style=\"text-align: right;\">\n",
       "      <th></th>\n",
       "      <th>user_id</th>\n",
       "      <th>order_id</th>\n",
       "      <th>action</th>\n",
       "      <th>time</th>\n",
       "      <th>date</th>\n",
       "      <th>group</th>\n",
       "    </tr>\n",
       "  </thead>\n",
       "  <tbody>\n",
       "    <tr>\n",
       "      <th>0</th>\n",
       "      <td>964</td>\n",
       "      <td>1255</td>\n",
       "      <td>create_order</td>\n",
       "      <td>2022-08-26 00:00:19.000000</td>\n",
       "      <td>2022-08-26</td>\n",
       "      <td>0</td>\n",
       "    </tr>\n",
       "    <tr>\n",
       "      <th>1</th>\n",
       "      <td>965</td>\n",
       "      <td>1256</td>\n",
       "      <td>create_order</td>\n",
       "      <td>2022-08-26 00:02:21.000000</td>\n",
       "      <td>2022-08-26</td>\n",
       "      <td>1</td>\n",
       "    </tr>\n",
       "    <tr>\n",
       "      <th>2</th>\n",
       "      <td>964</td>\n",
       "      <td>1257</td>\n",
       "      <td>create_order</td>\n",
       "      <td>2022-08-26 00:02:27.000000</td>\n",
       "      <td>2022-08-26</td>\n",
       "      <td>0</td>\n",
       "    </tr>\n",
       "    <tr>\n",
       "      <th>3</th>\n",
       "      <td>966</td>\n",
       "      <td>1258</td>\n",
       "      <td>create_order</td>\n",
       "      <td>2022-08-26 00:02:56.000000</td>\n",
       "      <td>2022-08-26</td>\n",
       "      <td>0</td>\n",
       "    </tr>\n",
       "    <tr>\n",
       "      <th>4</th>\n",
       "      <td>967</td>\n",
       "      <td>1259</td>\n",
       "      <td>create_order</td>\n",
       "      <td>2022-08-26 00:03:37.000000</td>\n",
       "      <td>2022-08-26</td>\n",
       "      <td>1</td>\n",
       "    </tr>\n",
       "  </tbody>\n",
       "</table>\n",
       "</div>"
      ],
      "text/plain": [
       "   user_id  order_id        action                        time        date  \\\n",
       "0      964      1255  create_order  2022-08-26 00:00:19.000000  2022-08-26   \n",
       "1      965      1256  create_order  2022-08-26 00:02:21.000000  2022-08-26   \n",
       "2      964      1257  create_order  2022-08-26 00:02:27.000000  2022-08-26   \n",
       "3      966      1258  create_order  2022-08-26 00:02:56.000000  2022-08-26   \n",
       "4      967      1259  create_order  2022-08-26 00:03:37.000000  2022-08-26   \n",
       "\n",
       "   group  \n",
       "0      0  \n",
       "1      1  \n",
       "2      0  \n",
       "3      0  \n",
       "4      1  "
      ]
     },
     "execution_count": 8,
     "metadata": {},
     "output_type": "execute_result"
    }
   ],
   "source": [
    "ab_users_data.head()"
   ]
  },
  {
   "cell_type": "markdown",
   "id": "989a8c39",
   "metadata": {},
   "source": [
    "**Датафрейм ab_users_data:**\n",
    "- *user_id* - id пользователя\n",
    "- *order_id* - id заказа\n",
    "- *action* - статус заказа (create_order - заказ создан, cancel_order - заказ отменен)\n",
    "- *time* - время создания или отмены заказа\n",
    "- *date* - дата создания или отмены заказа\n",
    "- *group* - принадлежность группе (0-без системы рекомендации, 1-с системой рекомендации)"
   ]
  },
  {
   "cell_type": "code",
   "execution_count": 12,
   "id": "3d59edb6",
   "metadata": {},
   "outputs": [
    {
     "data": {
      "text/html": [
       "<div>\n",
       "<style scoped>\n",
       "    .dataframe tbody tr th:only-of-type {\n",
       "        vertical-align: middle;\n",
       "    }\n",
       "\n",
       "    .dataframe tbody tr th {\n",
       "        vertical-align: top;\n",
       "    }\n",
       "\n",
       "    .dataframe thead th {\n",
       "        text-align: right;\n",
       "    }\n",
       "</style>\n",
       "<table border=\"1\" class=\"dataframe\">\n",
       "  <thead>\n",
       "    <tr style=\"text-align: right;\">\n",
       "      <th></th>\n",
       "      <th>order_id</th>\n",
       "      <th>creation_time</th>\n",
       "      <th>product_ids</th>\n",
       "    </tr>\n",
       "  </thead>\n",
       "  <tbody>\n",
       "    <tr>\n",
       "      <th>0</th>\n",
       "      <td>1255</td>\n",
       "      <td>2022-08-26 00:00:19.000000</td>\n",
       "      <td>{75, 22, 53, 84}</td>\n",
       "    </tr>\n",
       "    <tr>\n",
       "      <th>1</th>\n",
       "      <td>1256</td>\n",
       "      <td>2022-08-26 00:02:21.000000</td>\n",
       "      <td>{56, 76, 39}</td>\n",
       "    </tr>\n",
       "    <tr>\n",
       "      <th>2</th>\n",
       "      <td>1257</td>\n",
       "      <td>2022-08-26 00:02:27.000000</td>\n",
       "      <td>{76, 34, 41, 38}</td>\n",
       "    </tr>\n",
       "    <tr>\n",
       "      <th>3</th>\n",
       "      <td>1258</td>\n",
       "      <td>2022-08-26 00:02:56.000000</td>\n",
       "      <td>{74, 6}</td>\n",
       "    </tr>\n",
       "    <tr>\n",
       "      <th>4</th>\n",
       "      <td>1259</td>\n",
       "      <td>2022-08-26 00:03:37.000000</td>\n",
       "      <td>{20, 45, 67, 26}</td>\n",
       "    </tr>\n",
       "  </tbody>\n",
       "</table>\n",
       "</div>"
      ],
      "text/plain": [
       "   order_id               creation_time       product_ids\n",
       "0      1255  2022-08-26 00:00:19.000000  {75, 22, 53, 84}\n",
       "1      1256  2022-08-26 00:02:21.000000      {56, 76, 39}\n",
       "2      1257  2022-08-26 00:02:27.000000  {76, 34, 41, 38}\n",
       "3      1258  2022-08-26 00:02:56.000000           {74, 6}\n",
       "4      1259  2022-08-26 00:03:37.000000  {20, 45, 67, 26}"
      ]
     },
     "execution_count": 12,
     "metadata": {},
     "output_type": "execute_result"
    }
   ],
   "source": [
    "ab_orders.head()"
   ]
  },
  {
   "cell_type": "markdown",
   "id": "661e8afe",
   "metadata": {},
   "source": [
    "**Датафрейм ab_orders:**\n",
    "- *order_id* - id заказа\n",
    "- *creation_time* - дата и время создания или отмены заказа\n",
    "- *product_ids* - список id тех продуктов, которые были включены в заказ"
   ]
  },
  {
   "cell_type": "code",
   "execution_count": 13,
   "id": "d999d092",
   "metadata": {},
   "outputs": [
    {
     "data": {
      "text/html": [
       "<div>\n",
       "<style scoped>\n",
       "    .dataframe tbody tr th:only-of-type {\n",
       "        vertical-align: middle;\n",
       "    }\n",
       "\n",
       "    .dataframe tbody tr th {\n",
       "        vertical-align: top;\n",
       "    }\n",
       "\n",
       "    .dataframe thead th {\n",
       "        text-align: right;\n",
       "    }\n",
       "</style>\n",
       "<table border=\"1\" class=\"dataframe\">\n",
       "  <thead>\n",
       "    <tr style=\"text-align: right;\">\n",
       "      <th></th>\n",
       "      <th>product_id</th>\n",
       "      <th>name</th>\n",
       "      <th>price</th>\n",
       "    </tr>\n",
       "  </thead>\n",
       "  <tbody>\n",
       "    <tr>\n",
       "      <th>0</th>\n",
       "      <td>1</td>\n",
       "      <td>сахар</td>\n",
       "      <td>150.0</td>\n",
       "    </tr>\n",
       "    <tr>\n",
       "      <th>1</th>\n",
       "      <td>2</td>\n",
       "      <td>чай зеленый в пакетиках</td>\n",
       "      <td>50.0</td>\n",
       "    </tr>\n",
       "    <tr>\n",
       "      <th>2</th>\n",
       "      <td>3</td>\n",
       "      <td>вода негазированная</td>\n",
       "      <td>80.4</td>\n",
       "    </tr>\n",
       "    <tr>\n",
       "      <th>3</th>\n",
       "      <td>4</td>\n",
       "      <td>леденцы</td>\n",
       "      <td>45.5</td>\n",
       "    </tr>\n",
       "    <tr>\n",
       "      <th>4</th>\n",
       "      <td>5</td>\n",
       "      <td>кофе 3 в 1</td>\n",
       "      <td>15.0</td>\n",
       "    </tr>\n",
       "  </tbody>\n",
       "</table>\n",
       "</div>"
      ],
      "text/plain": [
       "   product_id                     name  price\n",
       "0           1                    сахар  150.0\n",
       "1           2  чай зеленый в пакетиках   50.0\n",
       "2           3      вода негазированная   80.4\n",
       "3           4                  леденцы   45.5\n",
       "4           5               кофе 3 в 1   15.0"
      ]
     },
     "execution_count": 13,
     "metadata": {},
     "output_type": "execute_result"
    }
   ],
   "source": [
    "ab_products.head()"
   ]
  },
  {
   "cell_type": "markdown",
   "id": "2cd757fe",
   "metadata": {},
   "source": [
    "**Датафрейм ab_products:**\n",
    "- *product_id* - id продукта\n",
    "- *name* - название продукта\n",
    "- *price* - цена продукта"
   ]
  },
  {
   "cell_type": "markdown",
   "id": "9032e098",
   "metadata": {},
   "source": [
    "Посмотрим насколько у нас отличаются количество исследований 0 и 1 группы."
   ]
  },
  {
   "cell_type": "code",
   "execution_count": 14,
   "id": "c6dc767a",
   "metadata": {
    "scrolled": false
   },
   "outputs": [
    {
     "name": "stderr",
     "output_type": "stream",
     "text": [
      "C:\\Users\\uszai\\AppData\\Local\\Temp\\ipykernel_18296\\2354096707.py:1: FutureWarning: Indexing with multiple keys (implicitly converted to a tuple of keys) will be deprecated, use a list instead.\n",
      "  ab_users_data.groupby('group')['action', 'group'].value_counts()\n"
     ]
    },
    {
     "data": {
      "text/plain": [
       "group  action      \n",
       "0      create_order    1609\n",
       "       cancel_order      82\n",
       "1      create_order    2514\n",
       "       cancel_order     132\n",
       "dtype: int64"
      ]
     },
     "execution_count": 14,
     "metadata": {},
     "output_type": "execute_result"
    }
   ],
   "source": [
    "ab_users_data.groupby('group')['action', 'group'].value_counts()"
   ]
  },
  {
   "cell_type": "markdown",
   "id": "1103e0fe",
   "metadata": {},
   "source": [
    "Процентное соотношение групп в нашем A/B тесте"
   ]
  },
  {
   "cell_type": "code",
   "execution_count": 285,
   "id": "a4c369c8",
   "metadata": {},
   "outputs": [
    {
     "data": {
      "text/plain": [
       "1    61.009915\n",
       "0    38.990085\n",
       "Name: group, dtype: float64"
      ]
     },
     "execution_count": 285,
     "metadata": {},
     "output_type": "execute_result"
    }
   ],
   "source": [
    "ab_users_data.group.value_counts(normalize = True).mul(100)"
   ]
  },
  {
   "cell_type": "markdown",
   "id": "026f2ed8",
   "metadata": {},
   "source": [
    "Проверим сколько пользователей учавствовало в нашем АБ-тесте."
   ]
  },
  {
   "cell_type": "code",
   "execution_count": 287,
   "id": "b4702646",
   "metadata": {},
   "outputs": [
    {
     "data": {
      "text/html": [
       "<div>\n",
       "<style scoped>\n",
       "    .dataframe tbody tr th:only-of-type {\n",
       "        vertical-align: middle;\n",
       "    }\n",
       "\n",
       "    .dataframe tbody tr th {\n",
       "        vertical-align: top;\n",
       "    }\n",
       "\n",
       "    .dataframe thead th {\n",
       "        text-align: right;\n",
       "    }\n",
       "</style>\n",
       "<table border=\"1\" class=\"dataframe\">\n",
       "  <thead>\n",
       "    <tr style=\"text-align: right;\">\n",
       "      <th></th>\n",
       "      <th>user_id</th>\n",
       "      <th>group</th>\n",
       "      <th>count_order</th>\n",
       "    </tr>\n",
       "  </thead>\n",
       "  <tbody>\n",
       "    <tr>\n",
       "      <th>0</th>\n",
       "      <td>964</td>\n",
       "      <td>0</td>\n",
       "      <td>2</td>\n",
       "    </tr>\n",
       "    <tr>\n",
       "      <th>1</th>\n",
       "      <td>965</td>\n",
       "      <td>1</td>\n",
       "      <td>9</td>\n",
       "    </tr>\n",
       "    <tr>\n",
       "      <th>2</th>\n",
       "      <td>966</td>\n",
       "      <td>0</td>\n",
       "      <td>2</td>\n",
       "    </tr>\n",
       "    <tr>\n",
       "      <th>3</th>\n",
       "      <td>967</td>\n",
       "      <td>1</td>\n",
       "      <td>5</td>\n",
       "    </tr>\n",
       "    <tr>\n",
       "      <th>4</th>\n",
       "      <td>968</td>\n",
       "      <td>0</td>\n",
       "      <td>3</td>\n",
       "    </tr>\n",
       "  </tbody>\n",
       "</table>\n",
       "</div>"
      ],
      "text/plain": [
       "   user_id  group  count_order\n",
       "0      964      0            2\n",
       "1      965      1            9\n",
       "2      966      0            2\n",
       "3      967      1            5\n",
       "4      968      0            3"
      ]
     },
     "execution_count": 287,
     "metadata": {},
     "output_type": "execute_result"
    }
   ],
   "source": [
    "count_order = ab_users_data.groupby(['user_id', 'group']) \\\n",
    "    .agg({'action': 'count'}) \\\n",
    "    .rename(columns={'action': 'count_order'}) \\\n",
    "    .reset_index()\n",
    "count_order.head()"
   ]
  },
  {
   "cell_type": "markdown",
   "id": "76c7bff7",
   "metadata": {},
   "source": [
    "На сколько по модулю отличается количество наблюдений в тесте и контроле? "
   ]
  },
  {
   "cell_type": "code",
   "execution_count": 288,
   "id": "a9533297",
   "metadata": {
    "scrolled": true
   },
   "outputs": [
    {
     "data": {
      "text/plain": [
       "13"
      ]
     },
     "execution_count": 288,
     "metadata": {},
     "output_type": "execute_result"
    }
   ],
   "source": [
    "# abs() - взять модуль\n",
    "abs(count_order.query('group == 0').user_id.count() - count_order.query('group == 1').user_id.count())"
   ]
  },
  {
   "cell_type": "markdown",
   "id": "566183e5",
   "metadata": {},
   "source": [
    "Проверим, разница в наших выборках между группами 0 и 1 статистически не значима или нет? \n",
    "Так как p-value > 0.05, наши выборки не имеют статистически значимые различия."
   ]
  },
  {
   "cell_type": "code",
   "execution_count": 289,
   "id": "8b4c18a3",
   "metadata": {
    "scrolled": true
   },
   "outputs": [
    {
     "data": {
      "text/plain": [
       "MannwhitneyuResult(statistic=132348.0, pvalue=0.510403326459026)"
      ]
     },
     "execution_count": 289,
     "metadata": {},
     "output_type": "execute_result"
    }
   ],
   "source": [
    "stats.mannwhitneyu(revenue.query('group == 0').user_id.unique(), revenue.query('group == 1').user_id.unique())"
   ]
  },
  {
   "cell_type": "markdown",
   "id": "349306e1",
   "metadata": {},
   "source": [
    "Мы специально сгруппировали наш датафрейм по пользователям, группам и посчитали сколько заказов приходится на каждого пользователя. Потому что в контрольной группе (0) у нас *39%* заказов, а в тестовой группе *61%*, хотя размер выборок различается друг от друга статистически не значимо."
   ]
  },
  {
   "cell_type": "markdown",
   "id": "48e4ad58",
   "metadata": {},
   "source": [
    "#### 2. Подготовка данных"
   ]
  },
  {
   "cell_type": "markdown",
   "id": "f7b11884",
   "metadata": {},
   "source": [
    "Подготовим наши данные. "
   ]
  },
  {
   "cell_type": "code",
   "execution_count": 16,
   "id": "d8aede19",
   "metadata": {},
   "outputs": [
    {
     "data": {
      "text/html": [
       "<div>\n",
       "<style scoped>\n",
       "    .dataframe tbody tr th:only-of-type {\n",
       "        vertical-align: middle;\n",
       "    }\n",
       "\n",
       "    .dataframe tbody tr th {\n",
       "        vertical-align: top;\n",
       "    }\n",
       "\n",
       "    .dataframe thead th {\n",
       "        text-align: right;\n",
       "    }\n",
       "</style>\n",
       "<table border=\"1\" class=\"dataframe\">\n",
       "  <thead>\n",
       "    <tr style=\"text-align: right;\">\n",
       "      <th></th>\n",
       "      <th>user_id</th>\n",
       "      <th>order_id</th>\n",
       "      <th>action</th>\n",
       "      <th>time</th>\n",
       "      <th>date</th>\n",
       "      <th>group</th>\n",
       "      <th>product_ids</th>\n",
       "    </tr>\n",
       "  </thead>\n",
       "  <tbody>\n",
       "    <tr>\n",
       "      <th>0</th>\n",
       "      <td>964</td>\n",
       "      <td>1255</td>\n",
       "      <td>create_order</td>\n",
       "      <td>2022-08-26 00:00:19.000000</td>\n",
       "      <td>2022-08-26</td>\n",
       "      <td>0</td>\n",
       "      <td>{75, 22, 53, 84}</td>\n",
       "    </tr>\n",
       "    <tr>\n",
       "      <th>1</th>\n",
       "      <td>965</td>\n",
       "      <td>1256</td>\n",
       "      <td>create_order</td>\n",
       "      <td>2022-08-26 00:02:21.000000</td>\n",
       "      <td>2022-08-26</td>\n",
       "      <td>1</td>\n",
       "      <td>{56, 76, 39}</td>\n",
       "    </tr>\n",
       "    <tr>\n",
       "      <th>2</th>\n",
       "      <td>964</td>\n",
       "      <td>1257</td>\n",
       "      <td>create_order</td>\n",
       "      <td>2022-08-26 00:02:27.000000</td>\n",
       "      <td>2022-08-26</td>\n",
       "      <td>0</td>\n",
       "      <td>{76, 34, 41, 38}</td>\n",
       "    </tr>\n",
       "    <tr>\n",
       "      <th>3</th>\n",
       "      <td>966</td>\n",
       "      <td>1258</td>\n",
       "      <td>create_order</td>\n",
       "      <td>2022-08-26 00:02:56.000000</td>\n",
       "      <td>2022-08-26</td>\n",
       "      <td>0</td>\n",
       "      <td>{74, 6}</td>\n",
       "    </tr>\n",
       "    <tr>\n",
       "      <th>4</th>\n",
       "      <td>966</td>\n",
       "      <td>1258</td>\n",
       "      <td>cancel_order</td>\n",
       "      <td>2022-08-26 00:08:25.486419</td>\n",
       "      <td>2022-08-26</td>\n",
       "      <td>0</td>\n",
       "      <td>{74, 6}</td>\n",
       "    </tr>\n",
       "  </tbody>\n",
       "</table>\n",
       "</div>"
      ],
      "text/plain": [
       "   user_id  order_id        action                        time        date  \\\n",
       "0      964      1255  create_order  2022-08-26 00:00:19.000000  2022-08-26   \n",
       "1      965      1256  create_order  2022-08-26 00:02:21.000000  2022-08-26   \n",
       "2      964      1257  create_order  2022-08-26 00:02:27.000000  2022-08-26   \n",
       "3      966      1258  create_order  2022-08-26 00:02:56.000000  2022-08-26   \n",
       "4      966      1258  cancel_order  2022-08-26 00:08:25.486419  2022-08-26   \n",
       "\n",
       "   group       product_ids  \n",
       "0      0  {75, 22, 53, 84}  \n",
       "1      1      {56, 76, 39}  \n",
       "2      0  {76, 34, 41, 38}  \n",
       "3      0           {74, 6}  \n",
       "4      0           {74, 6}  "
      ]
     },
     "execution_count": 16,
     "metadata": {},
     "output_type": "execute_result"
    }
   ],
   "source": [
    "# Смерджим  ab_users_data и ab_orders\n",
    "merge_product_ids = ab_users_data.merge(ab_orders[['order_id', 'product_ids']], how = 'inner', on = 'order_id')\n",
    "merge_product_ids.head()"
   ]
  },
  {
   "cell_type": "code",
   "execution_count": 17,
   "id": "a933bdce",
   "metadata": {},
   "outputs": [
    {
     "name": "stderr",
     "output_type": "stream",
     "text": [
      "C:\\Users\\uszai\\AppData\\Local\\Temp\\ipykernel_18296\\3421741937.py:2: FutureWarning: The default value of regex will change from True to False in a future version.\n",
      "  merge_product_ids['product_ids'] = merge_product_ids['product_ids'].str.replace('{|}','').str.split(',')\n"
     ]
    }
   ],
   "source": [
    "# Преобразуем нашу колонку product_ids в список для дальнейшей трансформации.\n",
    "merge_product_ids['product_ids'] = merge_product_ids['product_ids'].str.replace('{|}','').str.split(',')"
   ]
  },
  {
   "cell_type": "code",
   "execution_count": 20,
   "id": "b46459a5",
   "metadata": {},
   "outputs": [
    {
     "data": {
      "text/html": [
       "<div>\n",
       "<style scoped>\n",
       "    .dataframe tbody tr th:only-of-type {\n",
       "        vertical-align: middle;\n",
       "    }\n",
       "\n",
       "    .dataframe tbody tr th {\n",
       "        vertical-align: top;\n",
       "    }\n",
       "\n",
       "    .dataframe thead th {\n",
       "        text-align: right;\n",
       "    }\n",
       "</style>\n",
       "<table border=\"1\" class=\"dataframe\">\n",
       "  <thead>\n",
       "    <tr style=\"text-align: right;\">\n",
       "      <th></th>\n",
       "      <th>user_id</th>\n",
       "      <th>order_id</th>\n",
       "      <th>action</th>\n",
       "      <th>time</th>\n",
       "      <th>date</th>\n",
       "      <th>group</th>\n",
       "      <th>product_ids</th>\n",
       "    </tr>\n",
       "  </thead>\n",
       "  <tbody>\n",
       "    <tr>\n",
       "      <th>0</th>\n",
       "      <td>964</td>\n",
       "      <td>1255</td>\n",
       "      <td>create_order</td>\n",
       "      <td>2022-08-26 00:00:19.000000</td>\n",
       "      <td>2022-08-26</td>\n",
       "      <td>0</td>\n",
       "      <td>75</td>\n",
       "    </tr>\n",
       "    <tr>\n",
       "      <th>0</th>\n",
       "      <td>964</td>\n",
       "      <td>1255</td>\n",
       "      <td>create_order</td>\n",
       "      <td>2022-08-26 00:00:19.000000</td>\n",
       "      <td>2022-08-26</td>\n",
       "      <td>0</td>\n",
       "      <td>22</td>\n",
       "    </tr>\n",
       "    <tr>\n",
       "      <th>0</th>\n",
       "      <td>964</td>\n",
       "      <td>1255</td>\n",
       "      <td>create_order</td>\n",
       "      <td>2022-08-26 00:00:19.000000</td>\n",
       "      <td>2022-08-26</td>\n",
       "      <td>0</td>\n",
       "      <td>53</td>\n",
       "    </tr>\n",
       "    <tr>\n",
       "      <th>0</th>\n",
       "      <td>964</td>\n",
       "      <td>1255</td>\n",
       "      <td>create_order</td>\n",
       "      <td>2022-08-26 00:00:19.000000</td>\n",
       "      <td>2022-08-26</td>\n",
       "      <td>0</td>\n",
       "      <td>84</td>\n",
       "    </tr>\n",
       "    <tr>\n",
       "      <th>1</th>\n",
       "      <td>965</td>\n",
       "      <td>1256</td>\n",
       "      <td>create_order</td>\n",
       "      <td>2022-08-26 00:02:21.000000</td>\n",
       "      <td>2022-08-26</td>\n",
       "      <td>1</td>\n",
       "      <td>56</td>\n",
       "    </tr>\n",
       "  </tbody>\n",
       "</table>\n",
       "</div>"
      ],
      "text/plain": [
       "   user_id  order_id        action                        time        date  \\\n",
       "0      964      1255  create_order  2022-08-26 00:00:19.000000  2022-08-26   \n",
       "0      964      1255  create_order  2022-08-26 00:00:19.000000  2022-08-26   \n",
       "0      964      1255  create_order  2022-08-26 00:00:19.000000  2022-08-26   \n",
       "0      964      1255  create_order  2022-08-26 00:00:19.000000  2022-08-26   \n",
       "1      965      1256  create_order  2022-08-26 00:02:21.000000  2022-08-26   \n",
       "\n",
       "   group product_ids  \n",
       "0      0          75  \n",
       "0      0          22  \n",
       "0      0          53  \n",
       "0      0          84  \n",
       "1      1          56  "
      ]
     },
     "execution_count": 20,
     "metadata": {},
     "output_type": "execute_result"
    }
   ],
   "source": [
    "# Теперь запишем для удобства колонку со списком наших продуктов как отдельную строку. \n",
    "# Тем самым сможем смерджить merge_product_ids c ab_products.\n",
    "merge_product_ids = merge_product_ids.explode('product_ids')\n",
    "merge_product_ids.head()"
   ]
  },
  {
   "cell_type": "code",
   "execution_count": 21,
   "id": "553b478c",
   "metadata": {},
   "outputs": [],
   "source": [
    "# Переименуем колонки для дальнейшего соединения датафреймов.\n",
    "merge_product_ids = merge_product_ids.rename(columns = {'product_ids': 'product_id'})"
   ]
  },
  {
   "cell_type": "code",
   "execution_count": 22,
   "id": "f47c1cda",
   "metadata": {},
   "outputs": [],
   "source": [
    "#Приведем колонку-ключ, по которому будем объединять таблицы к нужному формату данных.\n",
    "merge_product_ids['product_id'] = merge_product_ids['product_id'].astype(int)"
   ]
  },
  {
   "cell_type": "code",
   "execution_count": 23,
   "id": "f9ce7265",
   "metadata": {},
   "outputs": [],
   "source": [
    "# Объединим данные и получим финальный датафрейм для дальнейшего анализа.\n",
    "finish_df = merge_product_ids.merge(ab_products, how = 'left', on = 'product_id')"
   ]
  },
  {
   "cell_type": "code",
   "execution_count": 24,
   "id": "555a6d9b",
   "metadata": {},
   "outputs": [
    {
     "data": {
      "text/html": [
       "<div>\n",
       "<style scoped>\n",
       "    .dataframe tbody tr th:only-of-type {\n",
       "        vertical-align: middle;\n",
       "    }\n",
       "\n",
       "    .dataframe tbody tr th {\n",
       "        vertical-align: top;\n",
       "    }\n",
       "\n",
       "    .dataframe thead th {\n",
       "        text-align: right;\n",
       "    }\n",
       "</style>\n",
       "<table border=\"1\" class=\"dataframe\">\n",
       "  <thead>\n",
       "    <tr style=\"text-align: right;\">\n",
       "      <th></th>\n",
       "      <th>user_id</th>\n",
       "      <th>order_id</th>\n",
       "      <th>action</th>\n",
       "      <th>time</th>\n",
       "      <th>date</th>\n",
       "      <th>group</th>\n",
       "      <th>product_id</th>\n",
       "      <th>name</th>\n",
       "      <th>price</th>\n",
       "    </tr>\n",
       "  </thead>\n",
       "  <tbody>\n",
       "    <tr>\n",
       "      <th>0</th>\n",
       "      <td>964</td>\n",
       "      <td>1255</td>\n",
       "      <td>create_order</td>\n",
       "      <td>2022-08-26 00:00:19.000000</td>\n",
       "      <td>2022-08-26</td>\n",
       "      <td>0</td>\n",
       "      <td>75</td>\n",
       "      <td>сок ананасовый</td>\n",
       "      <td>120.0</td>\n",
       "    </tr>\n",
       "    <tr>\n",
       "      <th>1</th>\n",
       "      <td>964</td>\n",
       "      <td>1255</td>\n",
       "      <td>create_order</td>\n",
       "      <td>2022-08-26 00:00:19.000000</td>\n",
       "      <td>2022-08-26</td>\n",
       "      <td>0</td>\n",
       "      <td>22</td>\n",
       "      <td>сок мультифрукт</td>\n",
       "      <td>120.0</td>\n",
       "    </tr>\n",
       "    <tr>\n",
       "      <th>2</th>\n",
       "      <td>964</td>\n",
       "      <td>1255</td>\n",
       "      <td>create_order</td>\n",
       "      <td>2022-08-26 00:00:19.000000</td>\n",
       "      <td>2022-08-26</td>\n",
       "      <td>0</td>\n",
       "      <td>53</td>\n",
       "      <td>мука</td>\n",
       "      <td>78.3</td>\n",
       "    </tr>\n",
       "    <tr>\n",
       "      <th>3</th>\n",
       "      <td>964</td>\n",
       "      <td>1255</td>\n",
       "      <td>create_order</td>\n",
       "      <td>2022-08-26 00:00:19.000000</td>\n",
       "      <td>2022-08-26</td>\n",
       "      <td>0</td>\n",
       "      <td>84</td>\n",
       "      <td>мандарины</td>\n",
       "      <td>90.4</td>\n",
       "    </tr>\n",
       "    <tr>\n",
       "      <th>4</th>\n",
       "      <td>965</td>\n",
       "      <td>1256</td>\n",
       "      <td>create_order</td>\n",
       "      <td>2022-08-26 00:02:21.000000</td>\n",
       "      <td>2022-08-26</td>\n",
       "      <td>1</td>\n",
       "      <td>56</td>\n",
       "      <td>сосиски</td>\n",
       "      <td>150.0</td>\n",
       "    </tr>\n",
       "  </tbody>\n",
       "</table>\n",
       "</div>"
      ],
      "text/plain": [
       "   user_id  order_id        action                        time        date  \\\n",
       "0      964      1255  create_order  2022-08-26 00:00:19.000000  2022-08-26   \n",
       "1      964      1255  create_order  2022-08-26 00:00:19.000000  2022-08-26   \n",
       "2      964      1255  create_order  2022-08-26 00:00:19.000000  2022-08-26   \n",
       "3      964      1255  create_order  2022-08-26 00:00:19.000000  2022-08-26   \n",
       "4      965      1256  create_order  2022-08-26 00:02:21.000000  2022-08-26   \n",
       "\n",
       "   group  product_id             name  price  \n",
       "0      0          75   сок ананасовый  120.0  \n",
       "1      0          22  сок мультифрукт  120.0  \n",
       "2      0          53             мука   78.3  \n",
       "3      0          84        мандарины   90.4  \n",
       "4      1          56          сосиски  150.0  "
      ]
     },
     "execution_count": 24,
     "metadata": {},
     "output_type": "execute_result"
    }
   ],
   "source": [
    "finish_df.head()"
   ]
  },
  {
   "cell_type": "markdown",
   "id": "8d14f9c3",
   "metadata": {},
   "source": [
    "**Датафрейм finish_df:**\n",
    "- *user_id* - id пользователя\n",
    "- *order_id* - id заказа\n",
    "- *action* - статус заказа (create_order - заказ создан, cancel_order - заказ отменен)\n",
    "- *time* - время создания или отмены заказа\n",
    "- *date* - дата создания или отмены заказа\n",
    "- *group* - принадлежность группе (0-без системы рекомендации, 1-с системой рекомендации)\n",
    "- *product_id* - id продукта\n",
    "- *name* - название продукта\n",
    "- *price* - цена продукта"
   ]
  },
  {
   "cell_type": "markdown",
   "id": "cb1a476b",
   "metadata": {},
   "source": [
    "#### 3. Проверка данных"
   ]
  },
  {
   "cell_type": "markdown",
   "id": "4d1c858d",
   "metadata": {},
   "source": [
    "Проверим наши данные на соответствие в % наших групп до объединения и после"
   ]
  },
  {
   "cell_type": "markdown",
   "id": "f2ebf935",
   "metadata": {},
   "source": [
    "Статистика наших групп до преобразования"
   ]
  },
  {
   "cell_type": "code",
   "execution_count": 25,
   "id": "e2eedb4c",
   "metadata": {},
   "outputs": [
    {
     "data": {
      "text/plain": [
       "1    61.009915\n",
       "0    38.990085\n",
       "Name: group, dtype: float64"
      ]
     },
     "execution_count": 25,
     "metadata": {},
     "output_type": "execute_result"
    }
   ],
   "source": [
    "ab_users_data.group.value_counts(normalize = True).mul(100)"
   ]
  },
  {
   "cell_type": "markdown",
   "id": "e0d64aca",
   "metadata": {},
   "source": [
    "Статистика наших групп после преобразования"
   ]
  },
  {
   "cell_type": "code",
   "execution_count": 26,
   "id": "2b806c46",
   "metadata": {
    "scrolled": true
   },
   "outputs": [
    {
     "data": {
      "text/plain": [
       "1    61.033702\n",
       "0    38.966298\n",
       "Name: group, dtype: float64"
      ]
     },
     "execution_count": 26,
     "metadata": {},
     "output_type": "execute_result"
    }
   ],
   "source": [
    "finish_df.group.value_counts(normalize = True).mul(100)"
   ]
  },
  {
   "cell_type": "markdown",
   "id": "2771888b",
   "metadata": {},
   "source": [
    "Как видим данные соответствуют."
   ]
  },
  {
   "cell_type": "markdown",
   "id": "099617d4",
   "metadata": {},
   "source": [
    "Пропущенных значений нет"
   ]
  },
  {
   "cell_type": "code",
   "execution_count": 27,
   "id": "5c23837d",
   "metadata": {},
   "outputs": [
    {
     "data": {
      "text/plain": [
       "user_id       0\n",
       "order_id      0\n",
       "action        0\n",
       "time          0\n",
       "date          0\n",
       "group         0\n",
       "product_id    0\n",
       "name          0\n",
       "price         0\n",
       "dtype: int64"
      ]
     },
     "execution_count": 27,
     "metadata": {},
     "output_type": "execute_result"
    }
   ],
   "source": [
    "finish_df.isnull().sum()"
   ]
  },
  {
   "cell_type": "code",
   "execution_count": null,
   "id": "d78bb317",
   "metadata": {},
   "outputs": [],
   "source": []
  },
  {
   "cell_type": "markdown",
   "id": "4da7acd9",
   "metadata": {},
   "source": [
    "#### 4. Решение задачи"
   ]
  },
  {
   "cell_type": "markdown",
   "id": "bbc35766",
   "metadata": {},
   "source": [
    "*Наша задача* – оценить, смогла ли новая система рекомендаций принести пользу бизнесу и пользователям приложения. \n",
    "Для этого нужно выбрать одну или несколько метрик, которая отвечает за качество сервиса\n",
    "и статистически сравнить эти метрики в двух группах."
   ]
  },
  {
   "cell_type": "markdown",
   "id": "6b3e9f23",
   "metadata": {},
   "source": [
    "В качестве важной метрики для бизнеса мы можем взять\n",
    "купленное *количество продуктов и  выручка.*"
   ]
  },
  {
   "cell_type": "markdown",
   "id": "ca628aff",
   "metadata": {},
   "source": [
    "Чтобы сравнить выручку и количество продуктов в 2 группах, мы подготовим датафрейм, \n",
    "по каждому пользователю разделенных по группам."
   ]
  },
  {
   "cell_type": "code",
   "execution_count": 28,
   "id": "8e2854a7",
   "metadata": {},
   "outputs": [
    {
     "data": {
      "text/html": [
       "<div>\n",
       "<style scoped>\n",
       "    .dataframe tbody tr th:only-of-type {\n",
       "        vertical-align: middle;\n",
       "    }\n",
       "\n",
       "    .dataframe tbody tr th {\n",
       "        vertical-align: top;\n",
       "    }\n",
       "\n",
       "    .dataframe thead th {\n",
       "        text-align: right;\n",
       "    }\n",
       "</style>\n",
       "<table border=\"1\" class=\"dataframe\">\n",
       "  <thead>\n",
       "    <tr style=\"text-align: right;\">\n",
       "      <th></th>\n",
       "      <th>user_id</th>\n",
       "      <th>group</th>\n",
       "      <th>date</th>\n",
       "      <th>count_per_user</th>\n",
       "      <th>price</th>\n",
       "    </tr>\n",
       "  </thead>\n",
       "  <tbody>\n",
       "    <tr>\n",
       "      <th>0</th>\n",
       "      <td>964</td>\n",
       "      <td>0</td>\n",
       "      <td>2022-08-26</td>\n",
       "      <td>8</td>\n",
       "      <td>718.9</td>\n",
       "    </tr>\n",
       "    <tr>\n",
       "      <th>1</th>\n",
       "      <td>965</td>\n",
       "      <td>1</td>\n",
       "      <td>2022-08-26</td>\n",
       "      <td>3</td>\n",
       "      <td>250.5</td>\n",
       "    </tr>\n",
       "    <tr>\n",
       "      <th>2</th>\n",
       "      <td>965</td>\n",
       "      <td>1</td>\n",
       "      <td>2022-08-27</td>\n",
       "      <td>4</td>\n",
       "      <td>860.6</td>\n",
       "    </tr>\n",
       "    <tr>\n",
       "      <th>3</th>\n",
       "      <td>965</td>\n",
       "      <td>1</td>\n",
       "      <td>2022-08-29</td>\n",
       "      <td>14</td>\n",
       "      <td>1845.8</td>\n",
       "    </tr>\n",
       "    <tr>\n",
       "      <th>4</th>\n",
       "      <td>965</td>\n",
       "      <td>1</td>\n",
       "      <td>2022-09-04</td>\n",
       "      <td>12</td>\n",
       "      <td>1198.6</td>\n",
       "    </tr>\n",
       "  </tbody>\n",
       "</table>\n",
       "</div>"
      ],
      "text/plain": [
       "   user_id  group        date  count_per_user   price\n",
       "0      964      0  2022-08-26               8   718.9\n",
       "1      965      1  2022-08-26               3   250.5\n",
       "2      965      1  2022-08-27               4   860.6\n",
       "3      965      1  2022-08-29              14  1845.8\n",
       "4      965      1  2022-09-04              12  1198.6"
      ]
     },
     "execution_count": 28,
     "metadata": {},
     "output_type": "execute_result"
    }
   ],
   "source": [
    "revenue = finish_df.query('action == \"create_order\"') \\\n",
    "    .groupby(['user_id', 'group', 'date']) \\\n",
    "    .agg({'user_id':'count', 'price':'sum'}).rename(columns={'user_id':'count_per_user'}).reset_index()\n",
    "revenue.head()"
   ]
  },
  {
   "cell_type": "markdown",
   "id": "73506d62",
   "metadata": {},
   "source": [
    "Посмотрим на данные с выручкой по каждому пользователю разделенных по группам. \n",
    "Видим, что за **2022-08-26** выручка в несколько раз превышает выручку по сравнению с остальными днями. "
   ]
  },
  {
   "cell_type": "code",
   "execution_count": 310,
   "id": "3c0ac944",
   "metadata": {},
   "outputs": [
    {
     "data": {
      "text/html": [
       "<div>\n",
       "<style scoped>\n",
       "    .dataframe tbody tr th:only-of-type {\n",
       "        vertical-align: middle;\n",
       "    }\n",
       "\n",
       "    .dataframe tbody tr th {\n",
       "        vertical-align: top;\n",
       "    }\n",
       "\n",
       "    .dataframe thead th {\n",
       "        text-align: right;\n",
       "    }\n",
       "</style>\n",
       "<table border=\"1\" class=\"dataframe\">\n",
       "  <thead>\n",
       "    <tr style=\"text-align: right;\">\n",
       "      <th></th>\n",
       "      <th>date</th>\n",
       "      <th>group</th>\n",
       "      <th>price</th>\n",
       "    </tr>\n",
       "  </thead>\n",
       "  <tbody>\n",
       "    <tr>\n",
       "      <th>0</th>\n",
       "      <td>2022-08-26</td>\n",
       "      <td>0</td>\n",
       "      <td>239799.3</td>\n",
       "    </tr>\n",
       "    <tr>\n",
       "      <th>1</th>\n",
       "      <td>2022-08-26</td>\n",
       "      <td>1</td>\n",
       "      <td>247988.4</td>\n",
       "    </tr>\n",
       "    <tr>\n",
       "      <th>2</th>\n",
       "      <td>2022-08-27</td>\n",
       "      <td>0</td>\n",
       "      <td>42107.8</td>\n",
       "    </tr>\n",
       "    <tr>\n",
       "      <th>3</th>\n",
       "      <td>2022-08-27</td>\n",
       "      <td>1</td>\n",
       "      <td>74960.2</td>\n",
       "    </tr>\n",
       "    <tr>\n",
       "      <th>4</th>\n",
       "      <td>2022-08-28</td>\n",
       "      <td>0</td>\n",
       "      <td>32233.6</td>\n",
       "    </tr>\n",
       "    <tr>\n",
       "      <th>5</th>\n",
       "      <td>2022-08-28</td>\n",
       "      <td>1</td>\n",
       "      <td>77583.2</td>\n",
       "    </tr>\n",
       "    <tr>\n",
       "      <th>6</th>\n",
       "      <td>2022-08-29</td>\n",
       "      <td>0</td>\n",
       "      <td>45531.8</td>\n",
       "    </tr>\n",
       "    <tr>\n",
       "      <th>7</th>\n",
       "      <td>2022-08-29</td>\n",
       "      <td>1</td>\n",
       "      <td>88223.2</td>\n",
       "    </tr>\n",
       "    <tr>\n",
       "      <th>8</th>\n",
       "      <td>2022-08-30</td>\n",
       "      <td>0</td>\n",
       "      <td>34998.4</td>\n",
       "    </tr>\n",
       "    <tr>\n",
       "      <th>9</th>\n",
       "      <td>2022-08-30</td>\n",
       "      <td>1</td>\n",
       "      <td>55303.3</td>\n",
       "    </tr>\n",
       "    <tr>\n",
       "      <th>10</th>\n",
       "      <td>2022-08-31</td>\n",
       "      <td>0</td>\n",
       "      <td>27665.9</td>\n",
       "    </tr>\n",
       "    <tr>\n",
       "      <th>11</th>\n",
       "      <td>2022-08-31</td>\n",
       "      <td>1</td>\n",
       "      <td>46748.4</td>\n",
       "    </tr>\n",
       "    <tr>\n",
       "      <th>12</th>\n",
       "      <td>2022-09-01</td>\n",
       "      <td>0</td>\n",
       "      <td>29736.3</td>\n",
       "    </tr>\n",
       "    <tr>\n",
       "      <th>13</th>\n",
       "      <td>2022-09-01</td>\n",
       "      <td>1</td>\n",
       "      <td>50107.4</td>\n",
       "    </tr>\n",
       "    <tr>\n",
       "      <th>14</th>\n",
       "      <td>2022-09-02</td>\n",
       "      <td>0</td>\n",
       "      <td>33508.7</td>\n",
       "    </tr>\n",
       "    <tr>\n",
       "      <th>15</th>\n",
       "      <td>2022-09-02</td>\n",
       "      <td>1</td>\n",
       "      <td>52439.5</td>\n",
       "    </tr>\n",
       "    <tr>\n",
       "      <th>16</th>\n",
       "      <td>2022-09-03</td>\n",
       "      <td>0</td>\n",
       "      <td>26546.3</td>\n",
       "    </tr>\n",
       "    <tr>\n",
       "      <th>17</th>\n",
       "      <td>2022-09-03</td>\n",
       "      <td>1</td>\n",
       "      <td>61021.7</td>\n",
       "    </tr>\n",
       "    <tr>\n",
       "      <th>18</th>\n",
       "      <td>2022-09-04</td>\n",
       "      <td>0</td>\n",
       "      <td>30071.6</td>\n",
       "    </tr>\n",
       "    <tr>\n",
       "      <th>19</th>\n",
       "      <td>2022-09-04</td>\n",
       "      <td>1</td>\n",
       "      <td>55547.7</td>\n",
       "    </tr>\n",
       "    <tr>\n",
       "      <th>20</th>\n",
       "      <td>2022-09-05</td>\n",
       "      <td>0</td>\n",
       "      <td>14450.6</td>\n",
       "    </tr>\n",
       "    <tr>\n",
       "      <th>21</th>\n",
       "      <td>2022-09-05</td>\n",
       "      <td>1</td>\n",
       "      <td>27204.0</td>\n",
       "    </tr>\n",
       "    <tr>\n",
       "      <th>22</th>\n",
       "      <td>2022-09-06</td>\n",
       "      <td>0</td>\n",
       "      <td>19703.5</td>\n",
       "    </tr>\n",
       "    <tr>\n",
       "      <th>23</th>\n",
       "      <td>2022-09-06</td>\n",
       "      <td>1</td>\n",
       "      <td>21979.1</td>\n",
       "    </tr>\n",
       "    <tr>\n",
       "      <th>24</th>\n",
       "      <td>2022-09-07</td>\n",
       "      <td>0</td>\n",
       "      <td>20717.8</td>\n",
       "    </tr>\n",
       "    <tr>\n",
       "      <th>25</th>\n",
       "      <td>2022-09-07</td>\n",
       "      <td>1</td>\n",
       "      <td>35715.9</td>\n",
       "    </tr>\n",
       "    <tr>\n",
       "      <th>26</th>\n",
       "      <td>2022-09-08</td>\n",
       "      <td>0</td>\n",
       "      <td>16417.2</td>\n",
       "    </tr>\n",
       "    <tr>\n",
       "      <th>27</th>\n",
       "      <td>2022-09-08</td>\n",
       "      <td>1</td>\n",
       "      <td>34410.0</td>\n",
       "    </tr>\n",
       "  </tbody>\n",
       "</table>\n",
       "</div>"
      ],
      "text/plain": [
       "          date  group     price\n",
       "0   2022-08-26      0  239799.3\n",
       "1   2022-08-26      1  247988.4\n",
       "2   2022-08-27      0   42107.8\n",
       "3   2022-08-27      1   74960.2\n",
       "4   2022-08-28      0   32233.6\n",
       "5   2022-08-28      1   77583.2\n",
       "6   2022-08-29      0   45531.8\n",
       "7   2022-08-29      1   88223.2\n",
       "8   2022-08-30      0   34998.4\n",
       "9   2022-08-30      1   55303.3\n",
       "10  2022-08-31      0   27665.9\n",
       "11  2022-08-31      1   46748.4\n",
       "12  2022-09-01      0   29736.3\n",
       "13  2022-09-01      1   50107.4\n",
       "14  2022-09-02      0   33508.7\n",
       "15  2022-09-02      1   52439.5\n",
       "16  2022-09-03      0   26546.3\n",
       "17  2022-09-03      1   61021.7\n",
       "18  2022-09-04      0   30071.6\n",
       "19  2022-09-04      1   55547.7\n",
       "20  2022-09-05      0   14450.6\n",
       "21  2022-09-05      1   27204.0\n",
       "22  2022-09-06      0   19703.5\n",
       "23  2022-09-06      1   21979.1\n",
       "24  2022-09-07      0   20717.8\n",
       "25  2022-09-07      1   35715.9\n",
       "26  2022-09-08      0   16417.2\n",
       "27  2022-09-08      1   34410.0"
      ]
     },
     "execution_count": 310,
     "metadata": {},
     "output_type": "execute_result"
    }
   ],
   "source": [
    "revenue.groupby(['date', 'group']).agg({'price': 'sum'}).reset_index()"
   ]
  },
  {
   "cell_type": "markdown",
   "id": "cd189e5f",
   "metadata": {},
   "source": [
    "Уберем данные за 2022-08-26, чтобы она нам не портила распределение наших выборок. "
   ]
  },
  {
   "cell_type": "code",
   "execution_count": 29,
   "id": "d427809f",
   "metadata": {},
   "outputs": [
    {
     "data": {
      "text/html": [
       "<div>\n",
       "<style scoped>\n",
       "    .dataframe tbody tr th:only-of-type {\n",
       "        vertical-align: middle;\n",
       "    }\n",
       "\n",
       "    .dataframe tbody tr th {\n",
       "        vertical-align: top;\n",
       "    }\n",
       "\n",
       "    .dataframe thead th {\n",
       "        text-align: right;\n",
       "    }\n",
       "</style>\n",
       "<table border=\"1\" class=\"dataframe\">\n",
       "  <thead>\n",
       "    <tr style=\"text-align: right;\">\n",
       "      <th></th>\n",
       "      <th>date</th>\n",
       "      <th>group</th>\n",
       "      <th>count_per_user</th>\n",
       "      <th>revenue</th>\n",
       "    </tr>\n",
       "  </thead>\n",
       "  <tbody>\n",
       "    <tr>\n",
       "      <th>0</th>\n",
       "      <td>2022-08-27</td>\n",
       "      <td>0</td>\n",
       "      <td>393</td>\n",
       "      <td>42107.8</td>\n",
       "    </tr>\n",
       "    <tr>\n",
       "      <th>1</th>\n",
       "      <td>2022-08-27</td>\n",
       "      <td>1</td>\n",
       "      <td>673</td>\n",
       "      <td>74960.2</td>\n",
       "    </tr>\n",
       "    <tr>\n",
       "      <th>2</th>\n",
       "      <td>2022-08-28</td>\n",
       "      <td>0</td>\n",
       "      <td>311</td>\n",
       "      <td>32233.6</td>\n",
       "    </tr>\n",
       "    <tr>\n",
       "      <th>3</th>\n",
       "      <td>2022-08-28</td>\n",
       "      <td>1</td>\n",
       "      <td>688</td>\n",
       "      <td>77583.2</td>\n",
       "    </tr>\n",
       "    <tr>\n",
       "      <th>4</th>\n",
       "      <td>2022-08-29</td>\n",
       "      <td>0</td>\n",
       "      <td>376</td>\n",
       "      <td>45531.8</td>\n",
       "    </tr>\n",
       "  </tbody>\n",
       "</table>\n",
       "</div>"
      ],
      "text/plain": [
       "         date  group  count_per_user  revenue\n",
       "0  2022-08-27      0             393  42107.8\n",
       "1  2022-08-27      1             673  74960.2\n",
       "2  2022-08-28      0             311  32233.6\n",
       "3  2022-08-28      1             688  77583.2\n",
       "4  2022-08-29      0             376  45531.8"
      ]
     },
     "execution_count": 29,
     "metadata": {},
     "output_type": "execute_result"
    }
   ],
   "source": [
    "revenue_per_user = revenue.query('date > \"2022-08-26\"') \\\n",
    "    .groupby(['date', 'group']) \\\n",
    "    .agg({'count_per_user': 'sum','price': 'sum'}) \\\n",
    "    .reset_index() \\\n",
    "    .rename(columns = {'price': 'revenue'})\n",
    "revenue_per_user.head()"
   ]
  },
  {
   "cell_type": "markdown",
   "id": "897038f9",
   "metadata": {},
   "source": [
    "*Построим боксплот*. Наглядно видно что выручка и количество покупок в тестовой группе у нас увеличилась, \n",
    "а также ее средняя намного больше контрольной."
   ]
  },
  {
   "cell_type": "code",
   "execution_count": 31,
   "id": "25f7a426",
   "metadata": {
    "scrolled": true
   },
   "outputs": [
    {
     "data": {
      "text/plain": [
       "Text(0, 0.5, 'Выручка')"
      ]
     },
     "execution_count": 31,
     "metadata": {},
     "output_type": "execute_result"
    },
    {
     "data": {
      "image/png": "[encoded data removed]",
      "text/plain": [
       "<Figure size 432x288 with 1 Axes>"
      ]
     },
     "metadata": {
      "needs_background": "light"
     },
     "output_type": "display_data"
    }
   ],
   "source": [
    "sns.boxplot(x=\"group\", y=\"revenue\", data=revenue_per_user)\n",
    "plt.title('График выручки')\n",
    "plt.xlabel('Группы')\n",
    "plt.ylabel('Выручка')"
   ]
  },
  {
   "cell_type": "code",
   "execution_count": 32,
   "id": "4023230b",
   "metadata": {},
   "outputs": [
    {
     "data": {
      "text/plain": [
       "Text(0, 0.5, 'Количество покупок')"
      ]
     },
     "execution_count": 32,
     "metadata": {},
     "output_type": "execute_result"
    },
    {
     "data": {
      "image/png": "[encoded data removed]",
      "text/plain": [
       "<Figure size 432x288 with 1 Axes>"
      ]
     },
     "metadata": {
      "needs_background": "light"
     },
     "output_type": "display_data"
    }
   ],
   "source": [
    "sns.boxplot(x=\"group\", y=\"count_per_user\", data=revenue_per_user)\n",
    "plt.title('График покупок')\n",
    "plt.xlabel('Группы')\n",
    "plt.ylabel('Количество покупок')"
   ]
  },
  {
   "cell_type": "code",
   "execution_count": 34,
   "id": "9bd09dd0",
   "metadata": {
    "scrolled": true
   },
   "outputs": [
    {
     "data": {
      "image/png": "[encoded data removed]",
      "text/plain": [
       "<Figure size 1080x288 with 1 Axes>"
      ]
     },
     "metadata": {
      "needs_background": "light"
     },
     "output_type": "display_data"
    }
   ],
   "source": [
    "revenue_group_0 = revenue_per_user[revenue_per_user['group']==0]\n",
    "revenue_group_1 = revenue_per_user[revenue_per_user['group']==1]\n",
    "plt.figure(figsize=(15,4))\n",
    "plt.plot(revenue_group_0['date'], revenue_group_0['revenue'], label = 'Control')\n",
    "plt.plot(revenue_group_1['date'], revenue_group_1['revenue'], label = 'Test')\n",
    "plt.ylabel('Выручка')\n",
    "plt.xlabel('Дата')\n",
    "plt.title('Графики выручки по группам A/B')\n",
    "plt.legend()\n",
    "plt.show()"
   ]
  },
  {
   "cell_type": "markdown",
   "id": "1da22048",
   "metadata": {},
   "source": [
    "**Выводы:** Как мы видим, группа Test(1) стабильно показывает большую выручку чем группа Control(0)"
   ]
  },
  {
   "cell_type": "code",
   "execution_count": 35,
   "id": "4d43620d",
   "metadata": {},
   "outputs": [
    {
     "data": {
      "image/png": "[encoded data removed]",
      "text/plain": [
       "<Figure size 1080x288 with 1 Axes>"
      ]
     },
     "metadata": {
      "needs_background": "light"
     },
     "output_type": "display_data"
    }
   ],
   "source": [
    "count_group_0 = revenue_per_user[revenue_per_user['group']==0]\n",
    "count_group_1 = revenue_per_user[revenue_per_user['group']==1]\n",
    "plt.figure(figsize=(15,4))\n",
    "plt.plot(count_group_0['date'], count_group_0['count_per_user'], label = 'Control')\n",
    "plt.plot(count_group_1['date'], count_group_1['count_per_user'], label = 'Test')\n",
    "plt.ylabel('Количество покупок')\n",
    "plt.xlabel('Дата')\n",
    "plt.title('Графики количества покупок по группам A/B')\n",
    "plt.legend()\n",
    "plt.show()"
   ]
  },
  {
   "cell_type": "markdown",
   "id": "35625863",
   "metadata": {},
   "source": [
    "**Выводы:** Как мы видим, группа Test(1) стабильно показывает больше покупок чем группа Control(0)"
   ]
  },
  {
   "cell_type": "code",
   "execution_count": null,
   "id": "2dca19a6",
   "metadata": {},
   "outputs": [],
   "source": []
  },
  {
   "cell_type": "markdown",
   "id": "22a5db1a",
   "metadata": {},
   "source": [
    "Сагригируем наши данные для удобства. По каждому клиенту отобразим количество сделанных покупок и суммирующую выручку."
   ]
  },
  {
   "cell_type": "code",
   "execution_count": 39,
   "id": "261a3fe4",
   "metadata": {},
   "outputs": [
    {
     "data": {
      "text/html": [
       "<div>\n",
       "<style scoped>\n",
       "    .dataframe tbody tr th:only-of-type {\n",
       "        vertical-align: middle;\n",
       "    }\n",
       "\n",
       "    .dataframe tbody tr th {\n",
       "        vertical-align: top;\n",
       "    }\n",
       "\n",
       "    .dataframe thead th {\n",
       "        text-align: right;\n",
       "    }\n",
       "</style>\n",
       "<table border=\"1\" class=\"dataframe\">\n",
       "  <thead>\n",
       "    <tr style=\"text-align: right;\">\n",
       "      <th></th>\n",
       "      <th>user_id</th>\n",
       "      <th>group</th>\n",
       "      <th>count_per_user</th>\n",
       "      <th>revenue</th>\n",
       "    </tr>\n",
       "  </thead>\n",
       "  <tbody>\n",
       "    <tr>\n",
       "      <th>0</th>\n",
       "      <td>964</td>\n",
       "      <td>0</td>\n",
       "      <td>8</td>\n",
       "      <td>718.9</td>\n",
       "    </tr>\n",
       "    <tr>\n",
       "      <th>1</th>\n",
       "      <td>965</td>\n",
       "      <td>1</td>\n",
       "      <td>33</td>\n",
       "      <td>4155.5</td>\n",
       "    </tr>\n",
       "    <tr>\n",
       "      <th>2</th>\n",
       "      <td>966</td>\n",
       "      <td>0</td>\n",
       "      <td>2</td>\n",
       "      <td>85.0</td>\n",
       "    </tr>\n",
       "    <tr>\n",
       "      <th>3</th>\n",
       "      <td>967</td>\n",
       "      <td>1</td>\n",
       "      <td>18</td>\n",
       "      <td>1137.4</td>\n",
       "    </tr>\n",
       "    <tr>\n",
       "      <th>4</th>\n",
       "      <td>968</td>\n",
       "      <td>0</td>\n",
       "      <td>11</td>\n",
       "      <td>1590.7</td>\n",
       "    </tr>\n",
       "  </tbody>\n",
       "</table>\n",
       "</div>"
      ],
      "text/plain": [
       "   user_id  group  count_per_user  revenue\n",
       "0      964      0               8    718.9\n",
       "1      965      1              33   4155.5\n",
       "2      966      0               2     85.0\n",
       "3      967      1              18   1137.4\n",
       "4      968      0              11   1590.7"
      ]
     },
     "execution_count": 39,
     "metadata": {},
     "output_type": "execute_result"
    }
   ],
   "source": [
    "count_revenue = revenue.groupby(['user_id', 'group']) \\\n",
    "    .agg({'count_per_user': 'sum', 'price': 'sum'}) \\\n",
    "    .reset_index() \\\n",
    "    .rename(columns={'price':'revenue'})\n",
    "count_revenue.head()"
   ]
  },
  {
   "cell_type": "markdown",
   "id": "2d4a2d7e",
   "metadata": {},
   "source": [
    "Построим распределение значение выручки нашей тестовой группы:"
   ]
  },
  {
   "cell_type": "code",
   "execution_count": 40,
   "id": "573ab5fb",
   "metadata": {},
   "outputs": [
    {
     "data": {
      "text/plain": [
       "<AxesSubplot:>"
      ]
     },
     "execution_count": 40,
     "metadata": {},
     "output_type": "execute_result"
    },
    {
     "data": {
      "image/png": "[encoded data removed]",
      "text/plain": [
       "<Figure size 432x288 with 1 Axes>"
      ]
     },
     "metadata": {
      "needs_background": "light"
     },
     "output_type": "display_data"
    }
   ],
   "source": [
    "distr_revenue_group_1 = count_revenue.query('group == 1').revenue\n",
    "distr_revenue_group_1.hist(bins=15)"
   ]
  },
  {
   "cell_type": "markdown",
   "id": "dbf669a2",
   "metadata": {},
   "source": [
    "Построим распределение значение выручки нашей тестовой группы, срежем выбросы для эффективности дальнейшего анализа:"
   ]
  },
  {
   "cell_type": "code",
   "execution_count": 41,
   "id": "7346148d",
   "metadata": {},
   "outputs": [
    {
     "data": {
      "text/plain": [
       "<AxesSubplot:>"
      ]
     },
     "execution_count": 41,
     "metadata": {},
     "output_type": "execute_result"
    },
    {
     "data": {
      "image/png": "[encoded data removed]",
      "text/plain": [
       "<Figure size 432x288 with 1 Axes>"
      ]
     },
     "metadata": {
      "needs_background": "light"
     },
     "output_type": "display_data"
    }
   ],
   "source": [
    "distr_revenue_group_0 = count_revenue.query('group == 0 and revenue < 4500').revenue\n",
    "distr_revenue_group_0.hist(bins=15)"
   ]
  },
  {
   "cell_type": "markdown",
   "id": "d4036f04",
   "metadata": {},
   "source": [
    "Построим распределение значение количества покупок нашей тестовой группы, срежем выбросы для эффективности дальнейшего анализа:\n"
   ]
  },
  {
   "cell_type": "code",
   "execution_count": 42,
   "id": "a64956fc",
   "metadata": {},
   "outputs": [
    {
     "data": {
      "text/plain": [
       "<AxesSubplot:>"
      ]
     },
     "execution_count": 42,
     "metadata": {},
     "output_type": "execute_result"
    },
    {
     "data": {
      "image/png": "[encoded data removed]",
      "text/plain": [
       "<Figure size 432x288 with 1 Axes>"
      ]
     },
     "metadata": {
      "needs_background": "light"
     },
     "output_type": "display_data"
    }
   ],
   "source": [
    "distr_of_purch_group_1 = count_revenue.query('group == 1 and count_per_user < 40').count_per_user\n",
    "distr_of_purch_group_1.hist(bins=10)"
   ]
  },
  {
   "cell_type": "markdown",
   "id": "95c435b9",
   "metadata": {},
   "source": [
    "Построим распределение значение количества покупок нашей контрольной группы, срежем выбросы для эффективности дальнейшего анализа:\n"
   ]
  },
  {
   "cell_type": "code",
   "execution_count": 43,
   "id": "c1424b5f",
   "metadata": {},
   "outputs": [
    {
     "data": {
      "text/plain": [
       "<AxesSubplot:>"
      ]
     },
     "execution_count": 43,
     "metadata": {},
     "output_type": "execute_result"
    },
    {
     "data": {
      "image/png": "[encoded data removed]",
      "text/plain": [
       "<Figure size 432x288 with 1 Axes>"
      ]
     },
     "metadata": {
      "needs_background": "light"
     },
     "output_type": "display_data"
    }
   ],
   "source": [
    "distr_of_purch_group_0 = count_revenue.query('group == 0 and count_per_user < 40').count_per_user\n",
    "distr_of_purch_group_0.hist(bins=10)"
   ]
  },
  {
   "cell_type": "markdown",
   "id": "c88ca0a3",
   "metadata": {},
   "source": [
    "Проверим наши распределения на нормальность (используем 2 метода): с помощью pingouin и теста Шапиро-Уилка."
   ]
  },
  {
   "cell_type": "markdown",
   "id": "1e105996",
   "metadata": {},
   "source": [
    "Проверяем распределение выручки"
   ]
  },
  {
   "cell_type": "code",
   "execution_count": 44,
   "id": "69014fa3",
   "metadata": {},
   "outputs": [
    {
     "data": {
      "text/html": [
       "<div>\n",
       "<style scoped>\n",
       "    .dataframe tbody tr th:only-of-type {\n",
       "        vertical-align: middle;\n",
       "    }\n",
       "\n",
       "    .dataframe tbody tr th {\n",
       "        vertical-align: top;\n",
       "    }\n",
       "\n",
       "    .dataframe thead th {\n",
       "        text-align: right;\n",
       "    }\n",
       "</style>\n",
       "<table border=\"1\" class=\"dataframe\">\n",
       "  <thead>\n",
       "    <tr style=\"text-align: right;\">\n",
       "      <th></th>\n",
       "      <th>W</th>\n",
       "      <th>pval</th>\n",
       "      <th>normal</th>\n",
       "    </tr>\n",
       "    <tr>\n",
       "      <th>group</th>\n",
       "      <th></th>\n",
       "      <th></th>\n",
       "      <th></th>\n",
       "    </tr>\n",
       "  </thead>\n",
       "  <tbody>\n",
       "    <tr>\n",
       "      <th>0</th>\n",
       "      <td>158.042704</td>\n",
       "      <td>4.802449e-35</td>\n",
       "      <td>False</td>\n",
       "    </tr>\n",
       "    <tr>\n",
       "      <th>1</th>\n",
       "      <td>21.921081</td>\n",
       "      <td>1.737392e-05</td>\n",
       "      <td>False</td>\n",
       "    </tr>\n",
       "  </tbody>\n",
       "</table>\n",
       "</div>"
      ],
      "text/plain": [
       "                W          pval  normal\n",
       "group                                  \n",
       "0      158.042704  4.802449e-35   False\n",
       "1       21.921081  1.737392e-05   False"
      ]
     },
     "execution_count": 44,
     "metadata": {},
     "output_type": "execute_result"
    }
   ],
   "source": [
    "pg.normality(data=count_revenue, dv=\"revenue\", group=\"group\", method=\"normaltest\") # проверим с помощью pingouin"
   ]
  },
  {
   "cell_type": "code",
   "execution_count": 45,
   "id": "8f641881",
   "metadata": {},
   "outputs": [
    {
     "data": {
      "text/plain": [
       "ShapiroResult(statistic=0.921268105506897, pvalue=1.0424476833506037e-15)"
      ]
     },
     "execution_count": 45,
     "metadata": {},
     "output_type": "execute_result"
    }
   ],
   "source": [
    "stats.shapiro(distr_revenue_group_0) # и проверим еще с помощью Шапиро-Уилка для контрольной группы, без выбросов"
   ]
  },
  {
   "cell_type": "code",
   "execution_count": 46,
   "id": "8cabf89e",
   "metadata": {},
   "outputs": [
    {
     "data": {
      "text/plain": [
       "ShapiroResult(statistic=0.9757506847381592, pvalue=2.1518859227853682e-07)"
      ]
     },
     "execution_count": 46,
     "metadata": {},
     "output_type": "execute_result"
    }
   ],
   "source": [
    "stats.shapiro(distr_revenue_group_1) # и для тестовой, без выбросов"
   ]
  },
  {
   "cell_type": "markdown",
   "id": "25d9cdf6",
   "metadata": {},
   "source": [
    "Поскольку наши распределения распределены ненормально, p-value < 0.05\n",
    "Т-критерий Стьюдента не подойдет. Воспользуемся U-критерием Манна-Уитни:"
   ]
  },
  {
   "cell_type": "code",
   "execution_count": 47,
   "id": "537fcdbc",
   "metadata": {},
   "outputs": [
    {
     "data": {
      "text/plain": [
       "MannwhitneyuResult(statistic=71693.0, pvalue=3.6917754053192207e-34)"
      ]
     },
     "execution_count": 47,
     "metadata": {},
     "output_type": "execute_result"
    }
   ],
   "source": [
    "stats.mannwhitneyu(distr_revenue_group_0, distr_revenue_group_1)"
   ]
  },
  {
   "cell_type": "markdown",
   "id": "79998ee7",
   "metadata": {},
   "source": [
    "Получаем p-value < 0.05, значение сравниваемых групп статистически различны."
   ]
  },
  {
   "cell_type": "code",
   "execution_count": null,
   "id": "f1b7373b",
   "metadata": {},
   "outputs": [],
   "source": []
  },
  {
   "cell_type": "markdown",
   "id": "bbcbbb67",
   "metadata": {},
   "source": [
    "Проверяем распределения количества покупок:"
   ]
  },
  {
   "cell_type": "code",
   "execution_count": 48,
   "id": "2777ec08",
   "metadata": {},
   "outputs": [
    {
     "data": {
      "text/html": [
       "<div>\n",
       "<style scoped>\n",
       "    .dataframe tbody tr th:only-of-type {\n",
       "        vertical-align: middle;\n",
       "    }\n",
       "\n",
       "    .dataframe tbody tr th {\n",
       "        vertical-align: top;\n",
       "    }\n",
       "\n",
       "    .dataframe thead th {\n",
       "        text-align: right;\n",
       "    }\n",
       "</style>\n",
       "<table border=\"1\" class=\"dataframe\">\n",
       "  <thead>\n",
       "    <tr style=\"text-align: right;\">\n",
       "      <th></th>\n",
       "      <th>W</th>\n",
       "      <th>pval</th>\n",
       "      <th>normal</th>\n",
       "    </tr>\n",
       "    <tr>\n",
       "      <th>group</th>\n",
       "      <th></th>\n",
       "      <th></th>\n",
       "      <th></th>\n",
       "    </tr>\n",
       "  </thead>\n",
       "  <tbody>\n",
       "    <tr>\n",
       "      <th>0</th>\n",
       "      <td>122.122425</td>\n",
       "      <td>3.030068e-27</td>\n",
       "      <td>False</td>\n",
       "    </tr>\n",
       "    <tr>\n",
       "      <th>1</th>\n",
       "      <td>30.267881</td>\n",
       "      <td>2.675551e-07</td>\n",
       "      <td>False</td>\n",
       "    </tr>\n",
       "  </tbody>\n",
       "</table>\n",
       "</div>"
      ],
      "text/plain": [
       "                W          pval  normal\n",
       "group                                  \n",
       "0      122.122425  3.030068e-27   False\n",
       "1       30.267881  2.675551e-07   False"
      ]
     },
     "execution_count": 48,
     "metadata": {},
     "output_type": "execute_result"
    }
   ],
   "source": [
    "pg.normality(data=count_revenue, dv=\"count_per_user\", group=\"group\", method=\"normaltest\") # проверим с помощью pingouin"
   ]
  },
  {
   "cell_type": "code",
   "execution_count": 49,
   "id": "7f60ec2e",
   "metadata": {},
   "outputs": [
    {
     "data": {
      "text/plain": [
       "ShapiroResult(statistic=0.914870023727417, pvalue=2.075311453600821e-16)"
      ]
     },
     "execution_count": 49,
     "metadata": {},
     "output_type": "execute_result"
    }
   ],
   "source": [
    "stats.shapiro(distr_of_purch_group_0) # и проверим еще с помощью Шапиро-Уилка для контрольной группы, без выбросов"
   ]
  },
  {
   "cell_type": "code",
   "execution_count": 50,
   "id": "4d372c69",
   "metadata": {},
   "outputs": [
    {
     "data": {
      "text/plain": [
       "ShapiroResult(statistic=0.9851899147033691, pvalue=6.117170414654538e-05)"
      ]
     },
     "execution_count": 50,
     "metadata": {},
     "output_type": "execute_result"
    }
   ],
   "source": [
    "stats.shapiro(distr_of_purch_group_1) # и для тестовой, бех выбросов"
   ]
  },
  {
   "cell_type": "markdown",
   "id": "dc69bd87",
   "metadata": {},
   "source": [
    "Поскольку наши распределения распределены ненормально, p-value < 0.05, Т-критерий Стьюдента не подойдет. Воспользуемся U-критерием Манна-Уитни :"
   ]
  },
  {
   "cell_type": "code",
   "execution_count": 51,
   "id": "b4fcacad",
   "metadata": {},
   "outputs": [
    {
     "data": {
      "text/plain": [
       "MannwhitneyuResult(statistic=64468.5, pvalue=3.659935136139227e-42)"
      ]
     },
     "execution_count": 51,
     "metadata": {},
     "output_type": "execute_result"
    }
   ],
   "source": [
    "stats.mannwhitneyu(distr_of_purch_group_0, distr_of_purch_group_1)"
   ]
  },
  {
   "cell_type": "markdown",
   "id": "836f55cd",
   "metadata": {},
   "source": [
    "Получаем p-value < 0.05, значение сравниваемых групп статистически различны."
   ]
  },
  {
   "cell_type": "code",
   "execution_count": null,
   "id": "0dfb515d",
   "metadata": {},
   "outputs": [],
   "source": []
  },
  {
   "cell_type": "markdown",
   "id": "3baced21",
   "metadata": {},
   "source": [
    "**Интерпритируем результаты:**\n",
    "\n",
    "В этом примере U-критерий Манна-Уитни использует следующие нулевую и альтернативную гипотезы:\n",
    "\n",
    "- H0 : выручка полученная от наших покупателей не различается\n",
    "- H1 : количество покупок покупателей не различается\n",
    "\n",
    "- H0(1) : выручка полученная от наших покупателей статистически различается\n",
    "- H1(1) : вколичество покупок покупателей статистически различается"
   ]
  },
  {
   "cell_type": "markdown",
   "id": "0dd376b8",
   "metadata": {},
   "source": [
    "Поскольку p-значение намного меньше 0,05, мы можем отвергнуть нулевую гипотезу H0.\n",
    "\n",
    "Это означает, что у нас достаточно доказательств, чтобы сказать, \n",
    "что истинное значение выручки различается между двумя группами."
   ]
  },
  {
   "cell_type": "markdown",
   "id": "3c02d45b",
   "metadata": {},
   "source": [
    "Поскольку p-значение намного меньше 0,05, мы можем отвергнуть нулевую гипотезу H0(1).\n",
    "\n",
    "Это означает, что у нас достаточно доказательств, чтобы сказать, \n",
    "что истинное значение количество покупок покупателями различается между двумя группами."
   ]
  },
  {
   "cell_type": "code",
   "execution_count": null,
   "id": "f66e3256",
   "metadata": {},
   "outputs": [],
   "source": []
  },
  {
   "cell_type": "markdown",
   "id": "c4595dce",
   "metadata": {},
   "source": [
    "**Вывод:** В ходе нашей работы мы сперва группировали и агригировали наши данные, чтобы предварительно сложилась картинка о\n",
    "результатах нашего АБ-теста. \n",
    "<p>На первом этапе исследования данные нам показали практически одинаковые размеры выборок,\n",
    "которые различаются между собой статистически не значимо. Но тем не менее, количество заказов у группы с системой\n",
    "рекомендаций было больше на 22% (61% против 39%). Далее выбрав важные метрики для нашего бизнеса - выручка и количество\n",
    "покупок, мы графически изобразили данные наших групп. И снова наглядно убедились, что значения наших групп различаются\n",
    "между собой. Тестовая группа (group 1) показывает стабильно выше результаты, чем контрольная групп (group 0). \n",
    "Количество покупок и размер выручки у тестовой группы каждый день был выше контрольной. \n",
    "Далее проверив наши распределения на нормальность и избавившись от выбросов, использовали U-критерий Манна-Уитни \n",
    "чтобы проверить наши данные на статистически значимые различия. \n",
    "<p>Исходя из результата теста мы РЕКОМЕНДУЕМ использовать тестовую \"систему рекомендаии товаров\" на всех пользователей."
   ]
  },
  {
   "cell_type": "code",
   "execution_count": null,
   "id": "f4bbfc0b",
   "metadata": {},
   "outputs": [],
   "source": []
  }
 ],
 "metadata": {
  "kernelspec": {
   "display_name": "Python 3 (ipykernel)",
   "language": "python",
   "name": "python3"
  },
  "language_info": {
   "codemirror_mode": {
    "name": "ipython",
    "version": 3
   },
   "file_extension": ".py",
   "mimetype": "text/x-python",
   "name": "python",
   "nbconvert_exporter": "python",
   "pygments_lexer": "ipython3",
   "version": "3.9.12"
  }
 },
 "nbformat": 4,
 "nbformat_minor": 5
}
